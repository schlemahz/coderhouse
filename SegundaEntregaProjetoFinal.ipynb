{
 "cells": [
  {
   "cell_type": "markdown",
   "metadata": {},
   "source": [
    "# Projeto Final de Data Science: Mega Sena"
   ]
  },
  {
   "cell_type": "markdown",
   "metadata": {},
   "source": [
    "## Objetivos Gerais"
   ]
  },
  {
   "cell_type": "markdown",
   "metadata": {},
   "source": [
    "- Entender o problema de negócio e identificar os elementos a serem considerados para o planejamento de um Modelo de Data Science.\n",
    "- Descrever os dados de negócio e as relações entre dados através da Análise Exploratória de Dados.\n",
    "- Escolher o algoritmo de treinamento e preparar os dados para o processo de treinamento do modelo.\n",
    "- Avaliar os indicadores de desempenho preditivo do modelo e realizar otimizações.\n",
    "- Elaborar uma apresentação executiva para a alta gerência, mostrando os resultados do modelo."
   ]
  },
  {
   "cell_type": "markdown",
   "metadata": {},
   "source": [
    "## Objetivos Específicos"
   ]
  },
  {
   "cell_type": "markdown",
   "metadata": {},
   "source": [
    "- Desenvolver as instâncias de Data Acquisition e Data Wrangling em seu trabalho final.\n",
    "- Escolher uma variável target.\n",
    "- Selecionar algoritmos candidatos, definindo quais parâmetros devem ser testados com dados para cada algoritmo por meio de uma análise comparativa."
   ]
  },
  {
   "cell_type": "markdown",
   "metadata": {},
   "source": [
    "## 1. Apresentação da Empresa ou Problema Específico"
   ]
  },
  {
   "cell_type": "markdown",
   "metadata": {},
   "source": [
    "Este projeto visa analisar os dados históricos da Mega Sena, uma das maiores loterias do Brasil, para identificar padrões e realizar análises estatísticas."
   ]
  },
  {
   "cell_type": "markdown",
   "metadata": {},
   "source": [
    "## 2. Perguntas e Objetivos da Pesquisa"
   ]
  },
  {
   "cell_type": "markdown",
   "metadata": {},
   "source": [
    "### Perguntas:\n",
    "- Quais são os padrões nos resultados da Mega Sena?\n",
    "- É possível prever números futuros com base nos históricos?\n",
    "- Quais números são mais frequentemente sorteados?"
   ]
  },
  {
   "cell_type": "markdown",
   "metadata": {},
   "source": [
    "### Objetivos:\n",
    "- Identificar padrões nos números sorteados.\n",
    "- Construir modelos preditivos.\n",
    "- Analisar distribuições e correlações."
   ]
  },
  {
   "cell_type": "markdown",
   "metadata": {},
   "source": [
    "## 3. Configuração da Equipe de Trabalho"
   ]
  },
  {
   "cell_type": "markdown",
   "metadata": {},
   "source": [
    "| Nome            | Função                 |\n",
    "|-----------------|------------------------|\n",
    "| Loan Schlemmer  | Coleta de Dados        |\n",
    "| Loan Schlemmer  | Análise de Dados       |\n",
    "| Loan Schlemmer  | Apresentação           |"
   ]
  },
  {
   "cell_type": "markdown",
   "metadata": {},
   "source": [
    "## 4. Indicação da Fonte do Dataset e Critérios de Seleção (Data Acquisition)"
   ]
  },
  {
   "cell_type": "markdown",
   "metadata": {},
   "source": [
    "Os dados foram obtidos de fontes públicas e oficiais da Caixa Econômica Federal."
   ]
  },
  {
   "cell_type": "code",
   "execution_count": null,
   "metadata": {},
   "outputs": [],
   "source": [
    "import pandas as pd\n",
    "\n",
    "# Caminho para o arquivo local\n",
    "file_path = 'Mega-Sena.xlsx'\n",
    "\n",
    "# Leitura dos dados\n",
    "df = pd.read_excel(file_path)\n",
    "\n",
    "# Renomear colunas para facilitar o trabalho\n",
    "df.columns = [\n",
    "    'Concurso', 'Data', 'Bola1', 'Bola2', 'Bola3', 'Bola4', 'Bola5', 'Bola6', \n",
    "    'Ganhadores_Sena', 'Cidade_UF', 'Rateio_Sena', 'Ganhadores_Quina', \n",
    "    'Rateio_Quina', 'Ganhadores_Quadra', 'Rateio_Quadra', 'Acumulado_6_Acertos', \n",
    "    'Arrecadacao_Total', 'Estimativa_Premio', 'Acumulado_Mega_da_Virada', \n",
    "    'Observacao'\n",
    "]\n",
    "\n",
    "# Convertendo a coluna de data para o formato datetime\n",
    "df['Data'] = pd.to_datetime(df['Data'], format='%d/%m/%Y')\n",
    "\n",
    "# Verificando valores nulos\n",
    "print(df.isnull().sum())\n",
    "\n",
    "# Preenchendo ou removendo valores nulos conforme necessário\n",
    "df.fillna(0, inplace=True)\n",
    "\n",
    "# Visualizar as mudanças\n",
    "df.head()"
   ]
  },
  {
   "cell_type": "markdown",
   "metadata": {},
   "source": [
    "## 5. Geração do Primeiro Data Wrangling"
   ]
  },
  {
   "cell_type": "code",
   "execution_count": null,
   "metadata": {},
   "outputs": [],
   "source": [
    "# Verificação de valores nulos e limpeza dos dados\n",
    "df.isnull().sum()\n",
    "df.fillna(0, inplace=True)\n",
    "\n",
    "# Visualizar as mudanças\n",
    "df.head()"
   ]
  },
  {
   "cell_type": "markdown",
   "metadata": {},
   "source": [
    "## 6. Análise Exploratória de Dados (EDA)"
   ]
  },
  {
   "cell_type": "code",
   "execution_count": null,
   "metadata": {},
   "outputs": [],
   "source": [
    "import matplotlib.pyplot as plt\n",
    "import seaborn as sns\n",
    "\n",
    "# Análise univariada: distribuição dos números sorteados\n",
    "plt.figure(figsize=(12, 6))\n",
    "for i in range(1, 7):\n",
    "    plt.subplot(2, 3, i)\n",
    "    sns.histplot(df[f'Bola{i}'], bins=60, kde=True)\n",
    "    plt.title(f'Distribuição da Bola {i}')\n",
    "plt.tight_layout()\n",
    "plt.show()"
   ]
  },
  {
   "cell_type": "markdown",
   "metadata": {},
   "source": [
    "## 7. Insights Univariados, Bivariados e Multivariados"
   ]
  },
  {
   "cell_type": "code",
   "execution_count": null,
   "metadata": {},
   "outputs": [],
   "source": [
    "# Análise bivariada: correlação entre os números sorteados\n",
    "plt.figure(figsize=(10, 8))\n",
    "sns.heatmap(df[['Bola1', 'Bola2', 'Bola3', 'Bola4', 'Bola5', 'Bola6']].corr(), annot=True, cmap='coolwarm')\n",
    "plt.title('Correlação entre os Números Sorteados')\n",
    "plt.show()\n",
    "\n",
    "# Insights multivariados\n",
    "pd.plotting.scatter_matrix(df[['Bola1', 'Bola2', 'Bola3', 'Bola4', 'Bola5', 'Bola6']], figsize=(12, 12))\n",
    "plt.show()"
   ]
  },
  {
   "cell_type": "markdown",
   "metadata": {},
   "source": [
    "## 8. Análise de Componentes Principais (PCA)"
   ]
  },
  {
   "cell_type": "code",
   "execution_count": null,
   "metadata": {},
   "outputs": [],
   "source": [
    "from sklearn.decomposition import PCA\n",
    "from sklearn.preprocessing import StandardScaler\n",
    "import matplotlib.pyplot as plt\n",
    "\n",
    "# Preparando os dados para PCA\n",
    "numeros = df[['Bola1', 'Bola2', 'Bola3', 'Bola4', 'Bola5', 'Bola6']]\n",
    "scaler = StandardScaler()\n",
    "numeros_scaled = scaler.fit_transform(numeros)\n",
    "\n",
    "# Aplicando PCA\n",
    "pca = PCA(n_components=2)\n",
    "principal_components = pca.fit_transform(numeros_scaled)\n",
    "df_pca = pd.DataFrame(data=principal_components, columns=['Principal Component 1', 'Principal Component 2'])\n",
    "\n",
    "# Visualizando os componentes principais\n",
    "plt.figure(figsize=(8, 6))\n",
    "plt.scatter(df_pca['Principal Component 1'], df_pca['Principal Component 2'])\n",
    "plt.xlabel('Principal Component 1')\n",
    "plt.ylabel('Principal Component 2')\n",
    "plt.title('PCA - Componentes Principais')\n",
    "plt.show()"
   ]
  },
  {
   "cell_type": "markdown",
   "metadata": {},
   "source": [
    "## 9. Contar a História dos Dados"
   ]
  },
  {
   "cell_type": "markdown",
   "metadata": {},
   "source": [
    "Neste projeto, analisamos os dados históricos da Mega Sena para identificar padrões nos números sorteados. Utilizamos técnicas de análise exploratória de dados (EDA) e análise de componentes principais (PCA) para extrair insights significativos."
   ]
  },
  {
   "cell_type": "markdown",
   "metadata": {},
   "source": [
    "## 10. Filtros Aplicados aos Dados"
   ]
  },
  {
   "cell_type": "code",
   "execution_count": null,
   "metadata": {},
   "outputs": [],
   "source": [
    "# Aplicar filtros nos dados, se necessário\n",
    "# Por exemplo, remover sorteios acumulados\n",
    "df_filtered = df[df['Acumulado_6_Acertos'] == 0]\n",
    "\n",
    "# Visualizar as primeiras linhas dos dados filtrados\n",
    "df_filtered.head()"
   ]
  },
  {
   "cell_type": "markdown",
   "metadata": {},
   "source": [
    "## 11. Distribuição e Dataset Final para Analisar"
   ]
  },
  {
   "cell_type": "code",
   "execution_count": null,
   "metadata": {},
   "outputs": [],
   "source": [
    "# Especificar as distribuições\n",
    "distribuicoes = df_filtered.describe()\n",
    "\n",
    "# Especificar relações entre variáveis\n",
    "relacoes = df_filtered.corr()\n",
    "\n",
    "distribuicoes, relacoes"
   ]
  },
  {
   "cell_type": "markdown",
   "metadata": {},
   "source": [
    "## 12. Seleção de Algoritmos Candidatos"
   ]
  },
  {
   "cell_type": "markdown",
   "metadata": {},
   "source": [
    "Nesta fase, selecionaremos vários algoritmos candidatos para teste e avaliação. Esta seleção é baseada em algoritmos comuns para problemas de classificação e regressão, como:\n",
    "- Regressão Linear\n",
    "- Árvore de Decisão\n",
    "- Random Forest\n",
    "- Gradient Boosting\n",
    "- Redes Neurais\n",
    "- k-Nearest Neighbors (k-NN)\n",
    "- Support Vector Machines (SVM)\n",
    "\n",
    "Na próxima instância, testaremos esses algoritmos, avaliaremos seu desempenho e escolheremos o mais adequado para cada caso em particular."
   ]
  },
  {
   "cell_type": "code",
   "execution_count": 10,
   "metadata": {},
   "outputs": [
    {
     "name": "stdout",
     "output_type": "stream",
     "text": [
      "                                RMSE           MAE        R2\n",
      "Linear Regression       2.278040e+07  9.593452e+06  0.000085\n",
      "Decision Tree           3.074341e+07  1.263002e+07 -0.821145\n",
      "Random Forest           2.366313e+07  1.117484e+07 -0.078909\n",
      "Gradient Boosting       2.317690e+07  9.762060e+06 -0.035025\n",
      "k-NN                    2.427510e+07  1.043707e+07 -0.135435\n",
      "Support Vector Machine  2.369992e+07  6.534192e+06 -0.082267\n",
      "O melhor modelo é: Linear Regression\n"
     ]
    }
   ],
   "source": [
    "import pandas as pd\n",
    "import numpy as np\n",
    "from sklearn.model_selection import train_test_split\n",
    "from sklearn.linear_model import LinearRegression\n",
    "from sklearn.tree import DecisionTreeRegressor\n",
    "from sklearn.ensemble import RandomForestRegressor, GradientBoostingRegressor\n",
    "from sklearn.neighbors import KNeighborsRegressor\n",
    "from sklearn.svm import SVR\n",
    "from sklearn.metrics import mean_squared_error, mean_absolute_error, r2_score\n",
    "\n",
    "# Carregar os dados\n",
    "file_path = 'Mega-Sena.xlsx'\n",
    "df = pd.read_excel(file_path)\n",
    "\n",
    "# Renomear colunas para facilitar o trabalho\n",
    "df.columns = ['Concurso', 'Data', 'Bola1', 'Bola2', 'Bola3', 'Bola4', 'Bola5', 'Bola6', \n",
    "              'Ganhadores_Sena', 'Cidade_UF', 'Rateio_Sena', 'Ganhadores_Quina', \n",
    "              'Rateio_Quina', 'Ganhadores_Quadra', 'Rateio_Quadra', 'Acumulado_6_Acertos', \n",
    "              'Arrecadacao_Total', 'Estimativa_Premio', 'Acumulado_Mega_da_Virada', \n",
    "              'Observacao']\n",
    "\n",
    "# Convertendo a coluna de data para o formato datetime\n",
    "df['Data'] = pd.to_datetime(df['Data'], format='%d/%m/%Y')\n",
    "\n",
    "# Remover pontos e símbolos de real e converter colunas para numérico\n",
    "colunas_monetarias = ['Rateio_Sena', 'Rateio_Quina', 'Rateio_Quadra', 'Acumulado_6_Acertos',\n",
    "                      'Arrecadacao_Total', 'Estimativa_Premio', 'Acumulado_Mega_da_Virada']\n",
    "\n",
    "for coluna in colunas_monetarias:\n",
    "    df[coluna] = df[coluna].str.replace('R\\$', '', regex=True).str.replace('.', '').str.replace(',', '.').astype(float)\n",
    "\n",
    "# Verificar valores nulos e preenchê-los se necessário\n",
    "df.fillna(0, inplace=True)\n",
    "\n",
    "# Definir variável target e features\n",
    "X = df[['Bola1', 'Bola2', 'Bola3', 'Bola4', 'Bola5', 'Bola6']]\n",
    "y = df['Rateio_Sena']\n",
    "\n",
    "# Dividir os dados em treino e teste\n",
    "X_train, X_test, y_train, y_test = train_test_split(X, y, test_size=0.2, random_state=42)\n",
    "\n",
    "# Definir modelos\n",
    "models = {\n",
    "    'Linear Regression': LinearRegression(),\n",
    "    'Decision Tree': DecisionTreeRegressor(),\n",
    "    'Random Forest': RandomForestRegressor(),\n",
    "    'Gradient Boosting': GradientBoostingRegressor(),\n",
    "    'k-NN': KNeighborsRegressor(),\n",
    "    'Support Vector Machine': SVR()\n",
    "}\n",
    "\n",
    "# Treinar e avaliar modelos\n",
    "results = {}\n",
    "for name, model in models.items():\n",
    "    model.fit(X_train, y_train)\n",
    "    y_pred = model.predict(X_test)\n",
    "    rmse = np.sqrt(mean_squared_error(y_test, y_pred))\n",
    "    mae = mean_absolute_error(y_test, y_pred)\n",
    "    r2 = r2_score(y_test, y_pred)\n",
    "    results[name] = {'RMSE': rmse, 'MAE': mae, 'R2': r2}\n",
    "\n",
    "# Mostrar resultados\n",
    "results_df = pd.DataFrame(results).T\n",
    "print(results_df)\n",
    "\n",
    "# Escolher o melhor modelo com base no RMSE\n",
    "best_model_name = results_df['RMSE'].idxmin()\n",
    "best_model = models[best_model_name]\n",
    "print(f'O melhor modelo é: {best_model_name}')\n"
   ]
  },
  {
   "cell_type": "markdown",
   "metadata": {},
   "source": [
    "## 13. Importância do Storytelling"
   ]
  },
  {
   "cell_type": "markdown",
   "metadata": {},
   "source": [
    "É crucial dar ênfase à importância de um Storytelling adequado para a apresentação do projeto final. A apresentação deve ser clara, concisa e orientada a dados, mostrando os resultados de forma que seja facilmente compreensível para a alta gerência. Utilizar visualizações de dados eficazes e narrativas envolventes para comunicar os insights obtidos e as recomendações baseadas nos dados."
   ]
  }
 ],
 "metadata": {
  "kernelspec": {
   "display_name": "Python 3",
   "language": "python",
   "name": "python3"
  },
  "language_info": {
   "codemirror_mode": {
    "name": "ipython",
    "version": 3
   },
   "file_extension": ".py",
   "mimetype": "text/x-python",
   "name": "python",
   "nbconvert_exporter": "python",
   "pygments_lexer": "ipython3",
   "version": "3.9.13"
  }
 },
 "nbformat": 4,
 "nbformat_minor": 4
}
